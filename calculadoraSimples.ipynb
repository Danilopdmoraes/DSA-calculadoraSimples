{
 "cells": [
  {
   "cell_type": "markdown",
   "id": "6a86b9b3",
   "metadata": {},
   "source": [
    "Calculadora simples, exercício da DSA:"
   ]
  },
  {
   "cell_type": "code",
   "execution_count": 32,
   "id": "571a196a",
   "metadata": {},
   "outputs": [
    {
     "name": "stdout",
     "output_type": "stream",
     "text": [
      "Bem vindo a esta humilde calculadora simples\n"
     ]
    }
   ],
   "source": [
    "print('Bem vindo a esta humilde calculadora simples')"
   ]
  },
  {
   "cell_type": "code",
   "execution_count": 48,
   "id": "b65b8674",
   "metadata": {
    "scrolled": true
   },
   "outputs": [
    {
     "name": "stdout",
     "output_type": "stream",
     "text": [
      "Digite o primeiro número: 40\n"
     ]
    }
   ],
   "source": [
    "primeiro = float(input('Digite o primeiro número: '))"
   ]
  },
  {
   "cell_type": "code",
   "execution_count": 49,
   "id": "0e5508ee",
   "metadata": {},
   "outputs": [
    {
     "name": "stdout",
     "output_type": "stream",
     "text": [
      "40.0\n"
     ]
    }
   ],
   "source": [
    "print(primeiro)"
   ]
  },
  {
   "cell_type": "code",
   "execution_count": 50,
   "id": "83af7169",
   "metadata": {},
   "outputs": [
    {
     "name": "stdout",
     "output_type": "stream",
     "text": [
      "Digite o segundo número: 20\n"
     ]
    }
   ],
   "source": [
    "segundo = float(input('Digite o segundo número: '))"
   ]
  },
  {
   "cell_type": "code",
   "execution_count": 51,
   "id": "0a4a2182",
   "metadata": {},
   "outputs": [
    {
     "name": "stdout",
     "output_type": "stream",
     "text": [
      "20.0\n"
     ]
    }
   ],
   "source": [
    "print(segundo)"
   ]
  },
  {
   "cell_type": "code",
   "execution_count": 52,
   "id": "dbba3541",
   "metadata": {},
   "outputs": [
    {
     "name": "stdout",
     "output_type": "stream",
     "text": [
      "Selecione uma operação entre \"+, -, *, /\" :/\n"
     ]
    }
   ],
   "source": [
    "operacao = input('Selecione uma operação entre \\\"+, -, *, /\\\" :')"
   ]
  },
  {
   "cell_type": "code",
   "execution_count": 53,
   "id": "a72a035c",
   "metadata": {},
   "outputs": [
    {
     "name": "stdout",
     "output_type": "stream",
     "text": [
      "/\n"
     ]
    }
   ],
   "source": [
    "print(operacao)"
   ]
  },
  {
   "cell_type": "code",
   "execution_count": 54,
   "id": "0000f36f",
   "metadata": {},
   "outputs": [],
   "source": [
    "if operacao == '+':\n",
    "    resultado = primeiro + segundo\n",
    "elif operacao == '-':\n",
    "    resultado = primeiro - segundo\n",
    "elif operacao == '*':\n",
    "    resultado = primeiro * segundo\n",
    "elif operacao == '/':\n",
    "    resultado = primeiro / segundo\n",
    "else: \n",
    "    print('Não entendi, selecione novamente: ')"
   ]
  },
  {
   "cell_type": "code",
   "execution_count": 55,
   "id": "0bc9f41a",
   "metadata": {
    "scrolled": true
   },
   "outputs": [
    {
     "name": "stdout",
     "output_type": "stream",
     "text": [
      "2.0\n"
     ]
    }
   ],
   "source": [
    "print(resultado)"
   ]
  },
  {
   "cell_type": "code",
   "execution_count": null,
   "id": "71b8a933",
   "metadata": {},
   "outputs": [],
   "source": []
  }
 ],
 "metadata": {
  "kernelspec": {
   "display_name": "Python 3 (ipykernel)",
   "language": "python",
   "name": "python3"
  },
  "language_info": {
   "codemirror_mode": {
    "name": "ipython",
    "version": 3
   },
   "file_extension": ".py",
   "mimetype": "text/x-python",
   "name": "python",
   "nbconvert_exporter": "python",
   "pygments_lexer": "ipython3",
   "version": "3.11.5"
  }
 },
 "nbformat": 4,
 "nbformat_minor": 5
}
