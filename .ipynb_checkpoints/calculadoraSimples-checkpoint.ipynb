{
 "cells": [
  {
   "cell_type": "markdown",
   "id": "375b902e",
   "metadata": {},
   "source": [
    "Calculadora simples, exercício da DSA:"
   ]
  },
  {
   "cell_type": "code",
   "execution_count": null,
   "id": "564376d3",
   "metadata": {},
   "outputs": [],
   "source": [
    "print('Bem vindo a esta humilde calculadora simples')"
   ]
  },
  {
   "cell_type": "code",
   "execution_count": null,
   "id": "d5ffeb23",
   "metadata": {},
   "outputs": [],
   "source": [
    "primeiro = float(input('Digite o primeiro número: '))"
   ]
  },
  {
   "cell_type": "code",
   "execution_count": null,
   "id": "a6907a9f",
   "metadata": {},
   "outputs": [],
   "source": []
  }
 ],
 "metadata": {
  "kernelspec": {
   "display_name": "Python 3 (ipykernel)",
   "language": "python",
   "name": "python3"
  },
  "language_info": {
   "codemirror_mode": {
    "name": "ipython",
    "version": 3
   },
   "file_extension": ".py",
   "mimetype": "text/x-python",
   "name": "python",
   "nbconvert_exporter": "python",
   "pygments_lexer": "ipython3",
   "version": "3.11.5"
  }
 },
 "nbformat": 4,
 "nbformat_minor": 5
}
